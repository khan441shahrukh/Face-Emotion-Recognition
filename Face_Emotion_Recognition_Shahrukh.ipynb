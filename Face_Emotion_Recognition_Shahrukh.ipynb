{
  "cells": [
    {
      "cell_type": "markdown",
      "metadata": {
        "id": "view-in-github",
        "colab_type": "text"
      },
      "source": [
        "<a href=\"https://colab.research.google.com/github/khan441shahrukh/Face-Emotion-Recognition/blob/main/Face_Emotion_Recognition_Shahrukh.ipynb\" target=\"_parent\"><img src=\"https://colab.research.google.com/assets/colab-badge.svg\" alt=\"Open In Colab\"/></a>"
      ]
    },
    {
      "cell_type": "markdown",
      "metadata": {
        "id": "YGmc4pSnFIuQ"
      },
      "source": [
        "#**Project Introduction**"
      ]
    },
    {
      "cell_type": "markdown",
      "metadata": {
        "id": "vNybZmmNFJgJ"
      },
      "source": [
        "\n",
        "## The Indian education landscape has been undergoing rapid changes for the past 10 years owing to the advancement of web-based learning services, specifically, eLearning platforms. Global E-learning is estimated to witness an 8X over the next 5 years to reach USD 2B in 2021. India is expected to grow with a CAGR of 44% crossing the 10M users mark in 2021. Although the market is growing on a rapid scale, there are major challenges associated with digital learning when compared with brick and mortar classrooms. One of many challenges is how to ensure quality learning for students. Digital platforms might overpower physical classrooms in terms of content quality but when it comes to understanding whether students are able to grasp the content in a live class scenario is yet an open-end challenge.\n",
        "## In a physical classroom during a lecturing teacher can see the faces and assess the emotion of the class and tune their lecture accordingly, whether he is going fast or slow. He can identify students who need special attention. Digital classrooms are conducted via video telephony software program (ex\u0002Zoom) where it’s not possible for medium scale class (25-50) to see all students and access the mood. Because of this drawback, students are not focusing on content due to lack of surveillance. While digital platforms have limitations in terms of physical surveillance but it comes with the power of data and machines which can work for you. It provides data in the form of video, audio, and texts which can be analysed using deep learning algorithms. Deep learning backed system not only solves the surveillance issue, but it also removes the human bias from the system, and all information is no longer in the teacher’s brain rather translated in numbers that can be analysed and tracked.\n"
      ]
    },
    {
      "cell_type": "markdown",
      "metadata": {
        "id": "j4T7f82nFxex"
      },
      "source": [
        "#**Problem Statements**"
      ]
    },
    {
      "cell_type": "markdown",
      "metadata": {
        "id": "pAtkhGSOFJgJ"
      },
      "source": [
        "\n",
        "### * We will solve the above-mentioned challenge by applying deep learning algorithms to live video data.\n",
        "### * The solution to this problem is by recognizing facial emotions.\n"
      ]
    },
    {
      "cell_type": "markdown",
      "metadata": {
        "id": "f5fs-QS0FJgK"
      },
      "source": [
        "\n",
        "The data consists of 48x48 pixel grayscale images of faces. The faces have been automatically registered so that the face is more or less centred and occupies about the same amount of space in each image.\n",
        "\n",
        "The task is to categorize each face based on the emotion shown in the facial expression into one of seven categories (0=Angry, 1=Disgust, 2=Fear, 3=Happy, 4=Sad, 5=Surprise, 6=Neutral). The training set consists of 28,709 examples and the public test set consists of 3,589 examples.\n",
        "data link :https://www.kaggle.com/datasets/msambare/fer2013"
      ]
    },
    {
      "cell_type": "markdown",
      "metadata": {
        "id": "zlCMflUpb6q-"
      },
      "source": [
        "# Importing Libraries"
      ]
    },
    {
      "cell_type": "code",
      "execution_count": 1,
      "metadata": {
        "id": "gh3vQkHmbpSe"
      },
      "outputs": [],
      "source": [
        "# Importing required libraries\n",
        "import numpy as np\n",
        "import pandas as pd\n",
        "import os\n",
        "\n",
        "# Importing libraries for visualization\n",
        "import matplotlib.pyplot as plt\n",
        "import seaborn as sns\n",
        "\n",
        "# Importing Deep Learning Libraries\n",
        "\n",
        "from keras.preprocessing.image import load_img, img_to_array\n",
        "from keras.preprocessing.image import ImageDataGenerator\n",
        "from keras.layers import Dense,Input,Dropout,GlobalAveragePooling2D,Flatten,Conv2D,BatchNormalization,Activation,MaxPooling2D\n",
        "from keras.models import Model,Sequential\n",
        "from tensorflow.keras.optimizers import Adam, SGD, RMSprop\n"
      ]
    },
    {
      "cell_type": "code",
      "execution_count": 3,
      "metadata": {
        "colab": {
          "base_uri": "https://localhost:8080/"
        },
        "id": "hc70eLcP8MoO",
        "outputId": "7503e6e0-94ae-4162-ab2b-18c17ac3d37c"
      },
      "outputs": [
        {
          "output_type": "stream",
          "name": "stdout",
          "text": [
            "Mounted at /content/drive\n"
          ]
        }
      ],
      "source": [
        "from google.colab import drive\n",
        "drive.mount('/content/drive')"
      ]
    },
    {
      "cell_type": "markdown",
      "metadata": {
        "id": "XWTXwGU4GyFK"
      },
      "source": [
        "#**Data Extracting**"
      ]
    },
    {
      "cell_type": "markdown",
      "metadata": {
        "id": "GhZQo7wAZC9w"
      },
      "source": [
        "We have data in zip file.\n",
        "\n",
        "So, here we need to extract train and validation from zip file.\n",
        "\n",
        "Commented out bellow code after execuated once."
      ]
    },
    {
      "cell_type": "code",
      "execution_count": 4,
      "metadata": {
        "id": "KLVK4zA_p_Fr"
      },
      "outputs": [],
      "source": [
        "#Import the libraries\n",
        "import zipfile\n",
        "import os\n",
        "\n",
        "# Opens the zip file in read mode\n",
        "zip_ref = zipfile.ZipFile('/content/drive/MyDrive/Almabetter/Deep Learning/Capstone Project 5/archive.zip', 'r')\n",
        "#Extracts the files in folder\n",
        "zip_ref.extractall('/content/drive/MyDrive/face emotion')\n",
        "zip_ref.close()"
      ]
    },
    {
      "cell_type": "markdown",
      "source": [
        ""
      ],
      "metadata": {
        "id": "doyyG4CTfpib"
      }
    },
    {
      "cell_type": "markdown",
      "metadata": {
        "id": "Mylzc_R-cDhx"
      },
      "source": [
        "# **Displaying Images**"
      ]
    },
    {
      "cell_type": "code",
      "execution_count": 5,
      "metadata": {
        "id": "Qro6Q9g2YaqF"
      },
      "outputs": [],
      "source": [
        "# image size \n",
        "img_size = 48\n"
      ]
    },
    {
      "cell_type": "code",
      "execution_count": 7,
      "metadata": {
        "colab": {
          "base_uri": "https://localhost:8080/",
          "height": 702
        },
        "id": "xWyFX7IyMIS7",
        "outputId": "ff51b95b-4497-42d8-c289-674a75c04723"
      },
      "outputs": [
        {
          "output_type": "display_data",
          "data": {
            "text/plain": [
              "<Figure size 864x864 with 9 Axes>"
            ],
            "image/png": "[encoded data removed]"
          },
          "metadata": {
            "needs_background": "light"
          }
        }
      ],
      "source": [
        "expression = 'happy'\n",
        "\n",
        "plt.figure(figsize= (12,12))\n",
        "for i in range(1, 10, 1):\n",
        "    plt.subplot(3,3,i)\n",
        "    img = load_img(\"/content/drive/MyDrive/face emotion/train/\" +expression+\"/\"+\n",
        "                  os.listdir(\"/content/drive/MyDrive/face emotion/train/\" + expression)[i], target_size=(img_size, img_size))\n",
        "    plt.imshow(img)   \n",
        "plt.show()"
      ]
    },
    {
      "cell_type": "markdown",
      "metadata": {
        "id": "w0p4bHoncYvK"
      },
      "source": [
        "# **Making Training and Validation Data**"
      ]
    },
    {
      "cell_type": "markdown",
      "metadata": {
        "id": "mPSICJerHhVL"
      },
      "source": [
        "### Its usually a good idea to manipulate the images with scaling so the model becomes more robust to different images that our data set doesn't have. We can use the ImageDataGenerator to do this automatically for us"
      ]
    },
    {
      "cell_type": "code",
      "execution_count": 8,
      "metadata": {
        "colab": {
          "base_uri": "https://localhost:8080/"
        },
        "id": "6OcpZVrJDEXt",
        "outputId": "4ad3d752-f3a3-4cc6-f9e9-09b3346b99d1"
      },
      "outputs": [
        {
          "output_type": "stream",
          "name": "stdout",
          "text": [
            "Found 28709 images belonging to 7 classes.\n",
            "Found 7178 images belonging to 7 classes.\n"
          ]
        }
      ],
      "source": [
        "\n",
        "# the number of batches of data to be made\n",
        "batch_size = 32\n",
        "\n",
        "# data augmentation for training set\n",
        "datagen_train = ImageDataGenerator(horizontal_flip=True, # fliping the images\n",
        "                                   brightness_range=[0.8,1.2], \n",
        "                                   rescale=1./255) # scale the data\n",
        "\n",
        "# Training data generator\n",
        "train_data = datagen_train.flow_from_directory(\"/content/drive/MyDrive/face emotion/train\", #path of training images\n",
        "                                                  target_size=(img_size,img_size), # image size are 48*48 pixels\n",
        "                                                  batch_size=batch_size, # we are taking 32 batch size \n",
        "                                                  shuffle=True, # shuffling the images\n",
        "                                                  color_mode='grayscale', # because all images are grayscale\n",
        "                                                  class_mode='categorical') #we have 7 categories\n",
        "\n",
        "# data augmentation for validation set\n",
        "datagen_validation = ImageDataGenerator(rescale=1./255)\n",
        "\n",
        "# Validation data generator\n",
        "validation_data = datagen_validation.flow_from_directory(\"/content/drive/MyDrive/face emotion/test\", # path of validation images\n",
        "                                                  target_size=(img_size,img_size), # images size are 48*48 pixels\n",
        "                                                  batch_size=batch_size, # we are taking 32 batch size\n",
        "                                                  shuffle=False, # not shuffle the images\n",
        "                                                  color_mode='grayscale', # because all images are grayscale\n",
        "                                                  class_mode='categorical') #we have 7 categories"
      ]
    },
    {
      "cell_type": "markdown",
      "metadata": {
        "id": "7u44y3iPc2rq"
      },
      "source": [
        "# **Model Building**"
      ]
    },
    {
      "cell_type": "markdown",
      "metadata": {
        "id": "k_PiTbeOH9E2"
      },
      "source": [
        "# Basic CNN architecture details:\n",
        "\n",
        "## **Input layer**: Input layer in CNN should contain image data\n",
        "## **Convo layer**: Convo layer is sometimes called feature extractor layer because features of the image are get extracted within this layer\n",
        "## **Pooling layer**: Pooling is used to reduce the dimensionality of each features while retaining the most important information. It is used between two convolution layer\n",
        "## **Fully CL**: Fully connected layer involves weights, biases, and neurons. It connects neurons in one layer to neurons in another layer. It is used to classify images between different category by training and placed before the output layer\n",
        "## **Output Layer** - Output layer contains the label which is in the form of one-hot encoded\n",
        "##Also we use some common techniques for each layer\n",
        "\n",
        "## **Batch normalization**: improves the performance and stability of CNNs by providing inputs with zero mean and unit variance.\n",
        "\n",
        "## **Dropout:** reduces overfitting by randomly not updating the weights of some nodes. This helps prevent the NN from relying on one node in the layer too much."
      ]
    },
    {
      "cell_type": "code",
      "execution_count": 9,
      "metadata": {
        "id": "EPyn01moDnp9"
      },
      "outputs": [],
      "source": [
        "num_classes = 7\n",
        "model = Sequential()\n",
        "\n",
        "# 1st block of CNN\n",
        "model.add(Conv2D(64, kernel_size=3, activation='relu', padding='same', name = 'conv1_1',input_shape=(48, 48,1)))\n",
        "model.add(BatchNormalization())\n",
        "model.add(Conv2D(64, kernel_size=3, activation='relu', padding='same', name = 'conv1_2'))\n",
        "model.add(BatchNormalization())\n",
        "model.add(MaxPooling2D(pool_size=(2,2), name = 'pool1_1'))\n",
        "model.add(Dropout(0.3, name = 'drop1_1'))\n",
        "\n",
        "# 2nd block of CNN\n",
        "model.add(Conv2D(128, kernel_size=3, activation='relu', padding='same', name = 'conv2_1'))\n",
        "model.add(BatchNormalization())\n",
        "model.add(Conv2D(128, kernel_size=3, activation='relu', padding='same', name = 'conv2_2'))\n",
        "model.add(BatchNormalization())\n",
        "model.add(Conv2D(128, kernel_size=3, activation='relu', padding='same', name = 'conv2_3'))\n",
        "model.add(BatchNormalization())\n",
        "model.add(MaxPooling2D(pool_size=(2,2), name = 'pool2_1'))\n",
        "model.add(Dropout(0.3, name = 'drop2_1'))\n",
        "\n",
        "# 3rd block of CNN\n",
        "model.add(Conv2D(256, kernel_size=3, activation='relu', padding='same', name = 'conv3_1'))\n",
        "model.add(BatchNormalization())\n",
        "model.add(Conv2D(256, kernel_size=3, activation='relu', padding='same', name = 'conv3_2'))\n",
        "model.add(BatchNormalization())\n",
        "model.add(Conv2D(256, kernel_size=3, activation='relu', padding='same', name = 'conv3_3'))\n",
        "model.add(BatchNormalization())\n",
        "model.add(Conv2D(256, kernel_size=3, activation='relu', padding='same', name = 'conv3_4'))\n",
        "model.add(BatchNormalization())\n",
        "model.add(MaxPooling2D(pool_size=(2,2), name = 'pool3_1'))\n",
        "model.add(Dropout(0.3, name = 'drop3_1'))\n",
        "\n",
        "# 4th block of CNN\n",
        "model.add(Conv2D(256, kernel_size=3, activation='relu', padding='same', name = 'conv4_1'))\n",
        "model.add(BatchNormalization())\n",
        "model.add(Conv2D(256, kernel_size=3, activation='relu', padding='same', name = 'conv4_2'))\n",
        "model.add(BatchNormalization())\n",
        "model.add(Conv2D(256, kernel_size=3, activation='relu', padding='same', name = 'conv4_3'))\n",
        "model.add(BatchNormalization())\n",
        "model.add(Conv2D(256, kernel_size=3, activation='relu', padding='same', name = 'conv4_4'))\n",
        "model.add(BatchNormalization())\n",
        "model.add(MaxPooling2D(pool_size=(2,2), name = 'pool4_1'))\n",
        "model.add(Dropout(0.3, name = 'drop4_1'))\n",
        "\n",
        "# 5th block of CNN\n",
        "model.add(Conv2D(512, kernel_size=3, activation='relu', padding='same', name = 'conv5_1'))\n",
        "model.add(BatchNormalization())\n",
        "model.add(Conv2D(512, kernel_size=3, activation='relu', padding='same', name = 'conv5_2'))\n",
        "model.add(BatchNormalization())\n",
        "model.add(Conv2D(512, kernel_size=3, activation='relu', padding='same', name = 'conv5_3'))\n",
        "model.add(BatchNormalization())\n",
        "model.add(Conv2D(512, kernel_size=3, activation='relu', padding='same', name = 'conv5_4'))\n",
        "model.add(BatchNormalization())\n",
        "model.add(MaxPooling2D(pool_size=(2,2), name = 'pool5_1'))\n",
        "model.add(Dropout(0.3, name = 'drop5_1'))\n",
        "\n",
        "#Flatten and output\n",
        "model.add(Flatten(name = 'flatten'))\n",
        "\n",
        "#Fully connected 1st layer\n",
        "model.add(Dense(256))\n",
        "model.add(BatchNormalization())\n",
        "model.add(Activation('relu'))\n",
        "model.add(Dropout(0.25))\n",
        "\n",
        "\n",
        "# Fully connected layer 2nd layer\n",
        "model.add(Dense(512))\n",
        "model.add(BatchNormalization())\n",
        "model.add(Activation('relu'))\n",
        "model.add(Dropout(0.25))\n",
        "\n",
        "# Output layer of CNN using softmax for multiclassifier\n",
        "model.add(Dense(num_classes, activation='softmax', name = 'output'))# create model \n",
        "\n",
        "\n",
        "# compiling the model\n",
        "opt = Adam(learning_rate=0.0005)\n",
        "model.compile(optimizer=opt, loss='categorical_crossentropy', metrics=['accuracy'])\n"
      ]
    },
    {
      "cell_type": "code",
      "execution_count": 10,
      "metadata": {
        "colab": {
          "base_uri": "https://localhost:8080/"
        },
        "id": "hBiVhjhnXWjb",
        "outputId": "7027ed74-161e-415a-9586-e122454ee9a3"
      },
      "outputs": [
        {
          "output_type": "stream",
          "name": "stdout",
          "text": [
            "Model: \"sequential\"\n",
            "_________________________________________________________________\n",
            " Layer (type)                Output Shape              Param #   \n",
            "=================================================================\n",
            " conv1_1 (Conv2D)            (None, 48, 48, 64)        640       \n",
            "                                                                 \n",
            " batch_normalization (BatchN  (None, 48, 48, 64)       256       \n",
            " ormalization)                                                   \n",
            "                                                                 \n",
            " conv1_2 (Conv2D)            (None, 48, 48, 64)        36928     \n",
            "                                                                 \n",
            " batch_normalization_1 (Batc  (None, 48, 48, 64)       256       \n",
            " hNormalization)                                                 \n",
            "                                                                 \n",
            " pool1_1 (MaxPooling2D)      (None, 24, 24, 64)        0         \n",
            "                                                                 \n",
            " drop1_1 (Dropout)           (None, 24, 24, 64)        0         \n",
            "                                                                 \n",
            " conv2_1 (Conv2D)            (None, 24, 24, 128)       73856     \n",
            "                                                                 \n",
            " batch_normalization_2 (Batc  (None, 24, 24, 128)      512       \n",
            " hNormalization)                                                 \n",
            "                                                                 \n",
            " conv2_2 (Conv2D)            (None, 24, 24, 128)       147584    \n",
            "                                                                 \n",
            " batch_normalization_3 (Batc  (None, 24, 24, 128)      512       \n",
            " hNormalization)                                                 \n",
            "                                                                 \n",
            " conv2_3 (Conv2D)            (None, 24, 24, 128)       147584    \n",
            "                                                                 \n",
            " batch_normalization_4 (Batc  (None, 24, 24, 128)      512       \n",
            " hNormalization)                                                 \n",
            "                                                                 \n",
            " pool2_1 (MaxPooling2D)      (None, 12, 12, 128)       0         \n",
            "                                                                 \n",
            " drop2_1 (Dropout)           (None, 12, 12, 128)       0         \n",
            "                                                                 \n",
            " conv3_1 (Conv2D)            (None, 12, 12, 256)       295168    \n",
            "                                                                 \n",
            " batch_normalization_5 (Batc  (None, 12, 12, 256)      1024      \n",
            " hNormalization)                                                 \n",
            "                                                                 \n",
            " conv3_2 (Conv2D)            (None, 12, 12, 256)       590080    \n",
            "                                                                 \n",
            " batch_normalization_6 (Batc  (None, 12, 12, 256)      1024      \n",
            " hNormalization)                                                 \n",
            "                                                                 \n",
            " conv3_3 (Conv2D)            (None, 12, 12, 256)       590080    \n",
            "                                                                 \n",
            " batch_normalization_7 (Batc  (None, 12, 12, 256)      1024      \n",
            " hNormalization)                                                 \n",
            "                                                                 \n",
            " conv3_4 (Conv2D)            (None, 12, 12, 256)       590080    \n",
            "                                                                 \n",
            " batch_normalization_8 (Batc  (None, 12, 12, 256)      1024      \n",
            " hNormalization)                                                 \n",
            "                                                                 \n",
            " pool3_1 (MaxPooling2D)      (None, 6, 6, 256)         0         \n",
            "                                                                 \n",
            " drop3_1 (Dropout)           (None, 6, 6, 256)         0         \n",
            "                                                                 \n",
            " conv4_1 (Conv2D)            (None, 6, 6, 256)         590080    \n",
            "                                                                 \n",
            " batch_normalization_9 (Batc  (None, 6, 6, 256)        1024      \n",
            " hNormalization)                                                 \n",
            "                                                                 \n",
            " conv4_2 (Conv2D)            (None, 6, 6, 256)         590080    \n",
            "                                                                 \n",
            " batch_normalization_10 (Bat  (None, 6, 6, 256)        1024      \n",
            " chNormalization)                                                \n",
            "                                                                 \n",
            " conv4_3 (Conv2D)            (None, 6, 6, 256)         590080    \n",
            "                                                                 \n",
            " batch_normalization_11 (Bat  (None, 6, 6, 256)        1024      \n",
            " chNormalization)                                                \n",
            "                                                                 \n",
            " conv4_4 (Conv2D)            (None, 6, 6, 256)         590080    \n",
            "                                                                 \n",
            " batch_normalization_12 (Bat  (None, 6, 6, 256)        1024      \n",
            " chNormalization)                                                \n",
            "                                                                 \n",
            " pool4_1 (MaxPooling2D)      (None, 3, 3, 256)         0         \n",
            "                                                                 \n",
            " drop4_1 (Dropout)           (None, 3, 3, 256)         0         \n",
            "                                                                 \n",
            " conv5_1 (Conv2D)            (None, 3, 3, 512)         1180160   \n",
            "                                                                 \n",
            " batch_normalization_13 (Bat  (None, 3, 3, 512)        2048      \n",
            " chNormalization)                                                \n",
            "                                                                 \n",
            " conv5_2 (Conv2D)            (None, 3, 3, 512)         2359808   \n",
            "                                                                 \n",
            " batch_normalization_14 (Bat  (None, 3, 3, 512)        2048      \n",
            " chNormalization)                                                \n",
            "                                                                 \n",
            " conv5_3 (Conv2D)            (None, 3, 3, 512)         2359808   \n",
            "                                                                 \n",
            " batch_normalization_15 (Bat  (None, 3, 3, 512)        2048      \n",
            " chNormalization)                                                \n",
            "                                                                 \n",
            " conv5_4 (Conv2D)            (None, 3, 3, 512)         2359808   \n",
            "                                                                 \n",
            " batch_normalization_16 (Bat  (None, 3, 3, 512)        2048      \n",
            " chNormalization)                                                \n",
            "                                                                 \n",
            " pool5_1 (MaxPooling2D)      (None, 1, 1, 512)         0         \n",
            "                                                                 \n",
            " drop5_1 (Dropout)           (None, 1, 1, 512)         0         \n",
            "                                                                 \n",
            " flatten (Flatten)           (None, 512)               0         \n",
            "                                                                 \n",
            " dense (Dense)               (None, 256)               131328    \n",
            "                                                                 \n",
            " batch_normalization_17 (Bat  (None, 256)              1024      \n",
            " chNormalization)                                                \n",
            "                                                                 \n",
            " activation (Activation)     (None, 256)               0         \n",
            "                                                                 \n",
            " dropout (Dropout)           (None, 256)               0         \n",
            "                                                                 \n",
            " dense_1 (Dense)             (None, 512)               131584    \n",
            "                                                                 \n",
            " batch_normalization_18 (Bat  (None, 512)              2048      \n",
            " chNormalization)                                                \n",
            "                                                                 \n",
            " activation_1 (Activation)   (None, 512)               0         \n",
            "                                                                 \n",
            " dropout_1 (Dropout)         (None, 512)               0         \n",
            "                                                                 \n",
            " output (Dense)              (None, 7)                 3591      \n",
            "                                                                 \n",
            "=================================================================\n",
            "Total params: 13,379,911\n",
            "Trainable params: 13,369,159\n",
            "Non-trainable params: 10,752\n",
            "_________________________________________________________________\n"
          ]
        }
      ],
      "source": [
        "#model summary\n",
        "model.summary()"
      ]
    },
    {
      "cell_type": "markdown",
      "metadata": {
        "id": "qXBOrH5NcxC0"
      },
      "source": [
        "# **Fitting the Model with Training and Validation Data**"
      ]
    },
    {
      "cell_type": "code",
      "execution_count": 11,
      "metadata": {
        "colab": {
          "base_uri": "https://localhost:8080/"
        },
        "id": "sM9ueFH_DviN",
        "outputId": "20871b05-ecbd-4cc1-9a93-e33658753026"
      },
      "outputs": [
        {
          "output_type": "stream",
          "name": "stdout",
          "text": [
            "Training steps per epochs 897\n",
            "Validation steps per epochs 224\n"
          ]
        }
      ],
      "source": [
        "# defining steps per epochs \n",
        "epochs=100\n",
        "steps_per_epoch=train_data.n//train_data.batch_size\n",
        "print(\"Training steps per epochs\",steps_per_epoch)\n",
        "\n",
        "validation_steps=validation_data.n//validation_data.batch_size\n",
        "print(\"Validation steps per epochs\",validation_steps)"
      ]
    },
    {
      "cell_type": "code",
      "execution_count": 12,
      "metadata": {
        "id": "sJRm4yQ6DzWF"
      },
      "outputs": [],
      "source": [
        "# early stopping: for avoiding overfitting training data\n",
        "# checkpoint: to save model weights\n",
        "# ReduceLROnPlateau: for reducing learning rate\n",
        "\n",
        "from tensorflow.keras.callbacks import EarlyStopping, ModelCheckpoint, ReduceLROnPlateau\n",
        "\n",
        "# this decreases the learning rate if the model loss does not decrease \n",
        "reduce_lr = ReduceLROnPlateau(monitor='val_loss', factor=0.2,\n",
        "                              patience=2, min_lr=0.0001, mode='auto')\n",
        "\n",
        "# to save model weights \n",
        "checkpoint = ModelCheckpoint(\"model.h5\", monitor='val_accuracy',\n",
        "                             save_weights_only=True, mode='max', verbose=1)\n",
        "\n",
        "# for avoiding overfitting training data\n",
        "early_stopping=EarlyStopping(monitor='val_loss',\n",
        "                            min_delta=0,\n",
        "                            patience=5,\n",
        "                            verbose=1,\n",
        "                            restore_best_weights=True)\n",
        "\n",
        "callbacks = [checkpoint, reduce_lr, early_stopping]"
      ]
    },
    {
      "cell_type": "code",
      "execution_count": 13,
      "metadata": {
        "colab": {
          "base_uri": "https://localhost:8080/"
        },
        "id": "_8FAq9n4D-xW",
        "outputId": "2bca5f04-bfa9-4953-807e-1032def48f00"
      },
      "outputs": [
        {
          "output_type": "stream",
          "name": "stdout",
          "text": [
            "Epoch 1/100\n",
            "897/897 [==============================] - ETA: 0s - loss: 1.8881 - accuracy: 0.2595\n",
            "Epoch 1: saving model to model.h5\n",
            "897/897 [==============================] - 91s 85ms/step - loss: 1.8881 - accuracy: 0.2595 - val_loss: 2.0760 - val_accuracy: 0.2732 - lr: 5.0000e-04\n",
            "Epoch 2/100\n",
            "897/897 [==============================] - ETA: 0s - loss: 1.5768 - accuracy: 0.3961\n",
            "Epoch 2: saving model to model.h5\n",
            "897/897 [==============================] - 77s 86ms/step - loss: 1.5768 - accuracy: 0.3961 - val_loss: 1.4505 - val_accuracy: 0.4335 - lr: 5.0000e-04\n",
            "Epoch 3/100\n",
            "897/897 [==============================] - ETA: 0s - loss: 1.3719 - accuracy: 0.4754\n",
            "Epoch 3: saving model to model.h5\n",
            "897/897 [==============================] - 73s 82ms/step - loss: 1.3719 - accuracy: 0.4754 - val_loss: 1.3060 - val_accuracy: 0.5040 - lr: 5.0000e-04\n",
            "Epoch 4/100\n",
            "897/897 [==============================] - ETA: 0s - loss: 1.3108 - accuracy: 0.5027\n",
            "Epoch 4: saving model to model.h5\n",
            "897/897 [==============================] - 73s 81ms/step - loss: 1.3108 - accuracy: 0.5027 - val_loss: 1.2815 - val_accuracy: 0.5116 - lr: 5.0000e-04\n",
            "Epoch 5/100\n",
            "897/897 [==============================] - ETA: 0s - loss: 1.2416 - accuracy: 0.5335\n",
            "Epoch 5: saving model to model.h5\n",
            "897/897 [==============================] - 72s 80ms/step - loss: 1.2416 - accuracy: 0.5335 - val_loss: 1.2288 - val_accuracy: 0.5406 - lr: 5.0000e-04\n",
            "Epoch 6/100\n",
            "897/897 [==============================] - ETA: 0s - loss: 1.1963 - accuracy: 0.5507\n",
            "Epoch 6: saving model to model.h5\n",
            "897/897 [==============================] - 72s 80ms/step - loss: 1.1963 - accuracy: 0.5507 - val_loss: 1.2193 - val_accuracy: 0.5342 - lr: 5.0000e-04\n",
            "Epoch 7/100\n",
            "897/897 [==============================] - ETA: 0s - loss: 1.1572 - accuracy: 0.5662\n",
            "Epoch 7: saving model to model.h5\n",
            "897/897 [==============================] - 72s 80ms/step - loss: 1.1572 - accuracy: 0.5662 - val_loss: 1.1557 - val_accuracy: 0.5597 - lr: 5.0000e-04\n",
            "Epoch 8/100\n",
            "897/897 [==============================] - ETA: 0s - loss: 1.1344 - accuracy: 0.5794\n",
            "Epoch 8: saving model to model.h5\n",
            "897/897 [==============================] - 72s 80ms/step - loss: 1.1344 - accuracy: 0.5794 - val_loss: 1.1201 - val_accuracy: 0.5802 - lr: 5.0000e-04\n",
            "Epoch 9/100\n",
            "897/897 [==============================] - ETA: 0s - loss: 1.1085 - accuracy: 0.5865\n",
            "Epoch 9: saving model to model.h5\n",
            "897/897 [==============================] - 72s 80ms/step - loss: 1.1085 - accuracy: 0.5865 - val_loss: 1.1712 - val_accuracy: 0.5711 - lr: 5.0000e-04\n",
            "Epoch 10/100\n",
            "897/897 [==============================] - ETA: 0s - loss: 1.0725 - accuracy: 0.6037\n",
            "Epoch 10: saving model to model.h5\n",
            "897/897 [==============================] - 71s 80ms/step - loss: 1.0725 - accuracy: 0.6037 - val_loss: 1.1260 - val_accuracy: 0.5883 - lr: 5.0000e-04\n",
            "Epoch 11/100\n",
            "897/897 [==============================] - ETA: 0s - loss: 0.9669 - accuracy: 0.6408\n",
            "Epoch 11: saving model to model.h5\n",
            "897/897 [==============================] - 71s 79ms/step - loss: 0.9669 - accuracy: 0.6408 - val_loss: 0.9855 - val_accuracy: 0.6330 - lr: 1.0000e-04\n",
            "Epoch 12/100\n",
            "897/897 [==============================] - ETA: 0s - loss: 0.9250 - accuracy: 0.6540\n",
            "Epoch 12: saving model to model.h5\n",
            "897/897 [==============================] - 71s 79ms/step - loss: 0.9250 - accuracy: 0.6540 - val_loss: 0.9718 - val_accuracy: 0.6353 - lr: 1.0000e-04\n",
            "Epoch 13/100\n",
            "897/897 [==============================] - ETA: 0s - loss: 0.8945 - accuracy: 0.6666\n",
            "Epoch 13: saving model to model.h5\n",
            "897/897 [==============================] - 71s 80ms/step - loss: 0.8945 - accuracy: 0.6666 - val_loss: 0.9622 - val_accuracy: 0.6427 - lr: 1.0000e-04\n",
            "Epoch 14/100\n",
            "897/897 [==============================] - ETA: 0s - loss: 0.8673 - accuracy: 0.6818\n",
            "Epoch 14: saving model to model.h5\n",
            "897/897 [==============================] - 72s 80ms/step - loss: 0.8673 - accuracy: 0.6818 - val_loss: 0.9909 - val_accuracy: 0.6342 - lr: 1.0000e-04\n",
            "Epoch 15/100\n",
            "897/897 [==============================] - ETA: 0s - loss: 0.8443 - accuracy: 0.6896\n",
            "Epoch 15: saving model to model.h5\n",
            "897/897 [==============================] - 71s 79ms/step - loss: 0.8443 - accuracy: 0.6896 - val_loss: 0.9658 - val_accuracy: 0.6431 - lr: 1.0000e-04\n",
            "Epoch 16/100\n",
            "897/897 [==============================] - ETA: 0s - loss: 0.8244 - accuracy: 0.6946\n",
            "Epoch 16: saving model to model.h5\n",
            "897/897 [==============================] - 72s 80ms/step - loss: 0.8244 - accuracy: 0.6946 - val_loss: 0.9510 - val_accuracy: 0.6539 - lr: 1.0000e-04\n",
            "Epoch 17/100\n",
            "897/897 [==============================] - ETA: 0s - loss: 0.7994 - accuracy: 0.7069\n",
            "Epoch 17: saving model to model.h5\n",
            "897/897 [==============================] - 72s 80ms/step - loss: 0.7994 - accuracy: 0.7069 - val_loss: 0.9596 - val_accuracy: 0.6516 - lr: 1.0000e-04\n",
            "Epoch 18/100\n",
            "897/897 [==============================] - ETA: 0s - loss: 0.7796 - accuracy: 0.7153\n",
            "Epoch 18: saving model to model.h5\n",
            "897/897 [==============================] - 72s 80ms/step - loss: 0.7796 - accuracy: 0.7153 - val_loss: 0.9505 - val_accuracy: 0.6529 - lr: 1.0000e-04\n",
            "Epoch 19/100\n",
            "897/897 [==============================] - ETA: 0s - loss: 0.7507 - accuracy: 0.7276\n",
            "Epoch 19: saving model to model.h5\n",
            "897/897 [==============================] - 71s 80ms/step - loss: 0.7507 - accuracy: 0.7276 - val_loss: 0.9579 - val_accuracy: 0.6529 - lr: 1.0000e-04\n",
            "Epoch 20/100\n",
            "897/897 [==============================] - ETA: 0s - loss: 0.7310 - accuracy: 0.7345\n",
            "Epoch 20: saving model to model.h5\n",
            "897/897 [==============================] - 72s 80ms/step - loss: 0.7310 - accuracy: 0.7345 - val_loss: 0.9519 - val_accuracy: 0.6616 - lr: 1.0000e-04\n",
            "Epoch 21/100\n",
            "897/897 [==============================] - ETA: 0s - loss: 0.7011 - accuracy: 0.7473\n",
            "Epoch 21: saving model to model.h5\n",
            "897/897 [==============================] - 72s 80ms/step - loss: 0.7011 - accuracy: 0.7473 - val_loss: 0.9755 - val_accuracy: 0.6574 - lr: 1.0000e-04\n",
            "Epoch 22/100\n",
            "897/897 [==============================] - ETA: 0s - loss: 0.6790 - accuracy: 0.7526\n",
            "Epoch 22: saving model to model.h5\n",
            "897/897 [==============================] - 72s 80ms/step - loss: 0.6790 - accuracy: 0.7526 - val_loss: 0.9713 - val_accuracy: 0.6666 - lr: 1.0000e-04\n",
            "Epoch 23/100\n",
            "897/897 [==============================] - ETA: 0s - loss: 0.6588 - accuracy: 0.7626\n",
            "Epoch 23: saving model to model.h5\n",
            "Restoring model weights from the end of the best epoch: 18.\n",
            "897/897 [==============================] - 71s 79ms/step - loss: 0.6588 - accuracy: 0.7626 - val_loss: 0.9742 - val_accuracy: 0.6664 - lr: 1.0000e-04\n",
            "Epoch 23: early stopping\n"
          ]
        }
      ],
      "source": [
        "# fitting the model\n",
        "history = model.fit(\n",
        "    x=train_data,\n",
        "    steps_per_epoch=steps_per_epoch,\n",
        "    epochs=epochs,\n",
        "    validation_data = validation_data,\n",
        "    validation_steps = validation_steps,\n",
        "    callbacks=callbacks,\n",
        "    verbose=1)"
      ]
    },
    {
      "cell_type": "markdown",
      "metadata": {
        "id": "WZCNTUpxI9YM"
      },
      "source": [
        "### At each epoch, Keras checks if our model performed better than during the previous epochs. If it is the case, the new best model weights are saved into a file. This will allow us to load directly the weights of our model without having to re-train it if we want to use it."
      ]
    },
    {
      "cell_type": "markdown",
      "metadata": {
        "id": "9-16TKaZdDKT"
      },
      "source": [
        "# Plotting Accuracy & Loss"
      ]
    },
    {
      "cell_type": "code",
      "execution_count": 14,
      "metadata": {
        "id": "SLDYd3dbc9qs",
        "colab": {
          "base_uri": "https://localhost:8080/",
          "height": 663
        },
        "outputId": "b3d58db8-77c4-4af4-c692-02ecfc17476d"
      },
      "outputs": [
        {
          "output_type": "display_data",
          "data": {
            "text/plain": [
              "<Figure size 1440x720 with 2 Axes>"
            ],
            "image/png": "[encoded data removed]"
          },
          "metadata": {}
        }
      ],
      "source": [
        "# plot the evolution of Loss and Acuracy on the train and validation sets\n",
        "plt.style.use('dark_background')\n",
        "\n",
        "plt.figure(figsize=(20,10))\n",
        "plt.subplot(1, 2, 1)\n",
        "plt.suptitle('Optimizer : Adam', fontsize=10)\n",
        "plt.ylabel('Loss', fontsize=16)\n",
        "plt.plot(history.history['loss'], label='Training Loss')\n",
        "plt.plot(history.history['val_loss'], label='Validation Loss')\n",
        "plt.legend(loc='upper right')\n",
        "\n",
        "plt.subplot(1, 2, 2)\n",
        "plt.ylabel('Accuracy', fontsize=16)\n",
        "plt.plot(history.history['accuracy'], label='Training Accuracy')\n",
        "plt.plot(history.history['val_accuracy'], label='Validation Accuracy')\n",
        "plt.legend(loc='lower right')\n",
        "plt.show()"
      ]
    },
    {
      "cell_type": "markdown",
      "metadata": {
        "id": "9m8JpHS7KDPg"
      },
      "source": [
        "\n",
        "\n",
        "The validation accuracy starts to stabilize nearby 76.3%.\n",
        "\n",
        "The training loss is slightly higher than the validation loss for the first epochs which can be surprising. Indeed we are more used to see higher validation losses than training losses in machine learning. Here this is simply due to the presence of dropout, which is only applied during the training phase and not during the validation phase.\n",
        "\n",
        "We can see that the training loss is becoming much smaller than the validation loss after the 7th-8thth epochs. This means that our model starts to overfit our training dataset after too much iterations. That is why the validation loss does not decrease a lot after. One solution consists in early-stopping the training of the model."
      ]
    },
    {
      "cell_type": "markdown",
      "metadata": {
        "id": "YCcwY36JJ2Dl"
      },
      "source": [
        "#<b>Conclusion\n",
        "* Our model is giving an accuracy of 76.3% on validation set and is robust in that it works well even in a dim light environment.\n",
        "\n",
        "* The application is able to detect face location and predict the right expression while checking it on a local webcam.\n",
        "\n",
        "* The front-end of the model was made using streamlit for webapp and running well on local webapp link.\n",
        "\n",
        "* Finally, we successfully deployed the Streamlit WebApp on Heroku so that it runs on a web server.\n",
        "\n",
        "* Through this model teachers can understand the students' perception during online classes and change the way of teaching if needed by understanding the students’ motive."
      ]
    },
    {
      "cell_type": "code",
      "source": [
        "# to save our model \n",
        "model.save(\"model.h5\", save_format='h5')"
      ],
      "metadata": {
        "id": "BNrynPautkjv"
      },
      "execution_count": 15,
      "outputs": []
    },
    {
      "cell_type": "code",
      "execution_count": 16,
      "metadata": {
        "colab": {
          "base_uri": "https://localhost:8080/",
          "height": 17
        },
        "id": "K4PtrNxxODvc",
        "outputId": "86b93434-a3b3-484e-a8d2-2c55e7fd2961"
      },
      "outputs": [
        {
          "output_type": "display_data",
          "data": {
            "text/plain": [
              "<IPython.core.display.Javascript object>"
            ],
            "application/javascript": [
              "\n",
              "    async function download(id, filename, size) {\n",
              "      if (!google.colab.kernel.accessAllowed) {\n",
              "        return;\n",
              "      }\n",
              "      const div = document.createElement('div');\n",
              "      const label = document.createElement('label');\n",
              "      label.textContent = `Downloading \"${filename}\": `;\n",
              "      div.appendChild(label);\n",
              "      const progress = document.createElement('progress');\n",
              "      progress.max = size;\n",
              "      div.appendChild(progress);\n",
              "      document.body.appendChild(div);\n",
              "\n",
              "      const buffers = [];\n",
              "      let downloaded = 0;\n",
              "\n",
              "      const channel = await google.colab.kernel.comms.open(id);\n",
              "      // Send a message to notify the kernel that we're ready.\n",
              "      channel.send({})\n",
              "\n",
              "      for await (const message of channel.messages) {\n",
              "        // Send a message to notify the kernel that we're ready.\n",
              "        channel.send({})\n",
              "        if (message.buffers) {\n",
              "          for (const buffer of message.buffers) {\n",
              "            buffers.push(buffer);\n",
              "            downloaded += buffer.byteLength;\n",
              "            progress.value = downloaded;\n",
              "          }\n",
              "        }\n",
              "      }\n",
              "      const blob = new Blob(buffers, {type: 'application/binary'});\n",
              "      const a = document.createElement('a');\n",
              "      a.href = window.URL.createObjectURL(blob);\n",
              "      a.download = filename;\n",
              "      div.appendChild(a);\n",
              "      a.click();\n",
              "      div.remove();\n",
              "    }\n",
              "  "
            ]
          },
          "metadata": {}
        },
        {
          "output_type": "display_data",
          "data": {
            "text/plain": [
              "<IPython.core.display.Javascript object>"
            ],
            "application/javascript": [
              "download(\"download_92a53ae7-4dc1-4647-af6b-e5179f851696\", \"model.h5\", 160837400)"
            ]
          },
          "metadata": {}
        }
      ],
      "source": [
        "# to download above saved model\n",
        "from google.colab import files\n",
        "files.download(\"model.h5\")"
      ]
    }
  ],
  "metadata": {
    "accelerator": "GPU",
    "colab": {
      "collapsed_sections": [],
      "name": "Face_Emotion_Recognition_Shahrukh.ipynb",
      "provenance": [],
      "include_colab_link": true
    },
    "kernelspec": {
      "display_name": "Python 3",
      "name": "python3"
    },
    "language_info": {
      "name": "python"
    }
  },
  "nbformat": 4,
  "nbformat_minor": 0
}