{
  "nbformat": 4,
  "nbformat_minor": 0,
  "metadata": {
    "colab": {
      "name": "Chinmaya Devprasad Face Emotion Detection",
      "provenance": [],
      "collapsed_sections": [],
      "include_colab_link": true
    },
    "kernelspec": {
      "display_name": "Python 3",
      "name": "python3"
    }
  },
  "cells": [
    {
      "cell_type": "markdown",
      "metadata": {
        "id": "view-in-github",
        "colab_type": "text"
      },
      "source": [
        "<a href=\"https://colab.research.google.com/github/chinu1997/Face-Emotion-Detection-App/blob/master/Chinmaya_Devprasad_Face_Emotion_Detection.ipynb\" target=\"_parent\"><img src=\"https://colab.research.google.com/assets/colab-badge.svg\" alt=\"Open In Colab\"/></a>"
      ]
    },
    {
      "cell_type": "code",
      "metadata": {
        "colab": {
          "base_uri": "https://localhost:8080/"
        },
        "id": "dJQH9nWg4HkQ",
        "outputId": "0dc09911-59df-450e-fdcd-fbb56c4d93bb"
      },
      "source": [
        "# Importing drive for access of dataset\n",
        "from google.colab import drive\n",
        "drive.mount('/content/drive')"
      ],
      "execution_count": 1,
      "outputs": [
        {
          "output_type": "stream",
          "text": [
            "Mounted at /content/drive\n"
          ],
          "name": "stdout"
        }
      ]
    },
    {
      "cell_type": "code",
      "metadata": {
        "id": "2f4Kfal24Pl1"
      },
      "source": [
        "import pandas as pd\n",
        "import numpy as np\n",
        "import matplotlib.pyplot as plt\n",
        "import seaborn as sns"
      ],
      "execution_count": 2,
      "outputs": []
    },
    {
      "cell_type": "markdown",
      "metadata": {
        "id": "9cxOZG2myKwZ"
      },
      "source": [
        "### **Importing Dataset**"
      ]
    },
    {
      "cell_type": "code",
      "metadata": {
        "id": "HAkGAbvV4QMo"
      },
      "source": [
        "image_data=pd.read_csv(\"/content/drive/MyDrive/Face Emotion Detection/fer2013.csv\")"
      ],
      "execution_count": 100,
      "outputs": []
    },
    {
      "cell_type": "code",
      "metadata": {
        "colab": {
          "base_uri": "https://localhost:8080/"
        },
        "id": "bxsoAKJNyPhE",
        "outputId": "28f7780e-8647-4591-991f-4d814d84c73c"
      },
      "source": [
        "image_data.info()"
      ],
      "execution_count": 4,
      "outputs": [
        {
          "output_type": "stream",
          "text": [
            "<class 'pandas.core.frame.DataFrame'>\n",
            "RangeIndex: 35887 entries, 0 to 35886\n",
            "Data columns (total 3 columns):\n",
            " #   Column   Non-Null Count  Dtype \n",
            "---  ------   --------------  ----- \n",
            " 0   emotion  35887 non-null  int64 \n",
            " 1   pixels   35887 non-null  object\n",
            " 2   Usage    35887 non-null  object\n",
            "dtypes: int64(1), object(2)\n",
            "memory usage: 841.2+ KB\n"
          ],
          "name": "stdout"
        }
      ]
    },
    {
      "cell_type": "code",
      "metadata": {
        "colab": {
          "base_uri": "https://localhost:8080/",
          "height": 198
        },
        "id": "0cT4Z_yd4oW-",
        "outputId": "3424bb3b-9fde-4788-8b86-dc87514462ae"
      },
      "source": [
        "image_data.head()"
      ],
      "execution_count": 5,
      "outputs": [
        {
          "output_type": "execute_result",
          "data": {
            "text/html": [
              "<div>\n",
              "<style scoped>\n",
              "    .dataframe tbody tr th:only-of-type {\n",
              "        vertical-align: middle;\n",
              "    }\n",
              "\n",
              "    .dataframe tbody tr th {\n",
              "        vertical-align: top;\n",
              "    }\n",
              "\n",
              "    .dataframe thead th {\n",
              "        text-align: right;\n",
              "    }\n",
              "</style>\n",
              "<table border=\"1\" class=\"dataframe\">\n",
              "  <thead>\n",
              "    <tr style=\"text-align: right;\">\n",
              "      <th></th>\n",
              "      <th>emotion</th>\n",
              "      <th>pixels</th>\n",
              "      <th>Usage</th>\n",
              "    </tr>\n",
              "  </thead>\n",
              "  <tbody>\n",
              "    <tr>\n",
              "      <th>0</th>\n",
              "      <td>0</td>\n",
              "      <td>70 80 82 72 58 58 60 63 54 58 60 48 89 115 121...</td>\n",
              "      <td>Training</td>\n",
              "    </tr>\n",
              "    <tr>\n",
              "      <th>1</th>\n",
              "      <td>0</td>\n",
              "      <td>151 150 147 155 148 133 111 140 170 174 182 15...</td>\n",
              "      <td>Training</td>\n",
              "    </tr>\n",
              "    <tr>\n",
              "      <th>2</th>\n",
              "      <td>2</td>\n",
              "      <td>231 212 156 164 174 138 161 173 182 200 106 38...</td>\n",
              "      <td>Training</td>\n",
              "    </tr>\n",
              "    <tr>\n",
              "      <th>3</th>\n",
              "      <td>4</td>\n",
              "      <td>24 32 36 30 32 23 19 20 30 41 21 22 32 34 21 1...</td>\n",
              "      <td>Training</td>\n",
              "    </tr>\n",
              "    <tr>\n",
              "      <th>4</th>\n",
              "      <td>6</td>\n",
              "      <td>4 0 0 0 0 0 0 0 0 0 0 0 3 15 23 28 48 50 58 84...</td>\n",
              "      <td>Training</td>\n",
              "    </tr>\n",
              "  </tbody>\n",
              "</table>\n",
              "</div>"
            ],
            "text/plain": [
              "   emotion                                             pixels     Usage\n",
              "0        0  70 80 82 72 58 58 60 63 54 58 60 48 89 115 121...  Training\n",
              "1        0  151 150 147 155 148 133 111 140 170 174 182 15...  Training\n",
              "2        2  231 212 156 164 174 138 161 173 182 200 106 38...  Training\n",
              "3        4  24 32 36 30 32 23 19 20 30 41 21 22 32 34 21 1...  Training\n",
              "4        6  4 0 0 0 0 0 0 0 0 0 0 0 3 15 23 28 48 50 58 84...  Training"
            ]
          },
          "metadata": {
            "tags": []
          },
          "execution_count": 5
        }
      ]
    },
    {
      "cell_type": "markdown",
      "metadata": {
        "id": "l-TtWrjoyTri"
      },
      "source": [
        "### **EDA With our Dataset**"
      ]
    },
    {
      "cell_type": "code",
      "metadata": {
        "colab": {
          "base_uri": "https://localhost:8080/",
          "height": 354
        },
        "id": "Z53-QqdG4wIA",
        "outputId": "d9a7cbb1-65a9-4ea2-d035-c1a660d42aed"
      },
      "source": [
        "label=[\"Angry\",\"Disgust\",\"Fear\",\"Happy\",\"Sad\",\"Surprise\",\"Neutral\"]\n",
        "sns.countplot(image_data['emotion'],)\n"
      ],
      "execution_count": null,
      "outputs": [
        {
          "output_type": "stream",
          "text": [
            "/usr/local/lib/python3.7/dist-packages/seaborn/_decorators.py:43: FutureWarning: Pass the following variable as a keyword arg: x. From version 0.12, the only valid positional argument will be `data`, and passing other arguments without an explicit keyword will result in an error or misinterpretation.\n",
            "  FutureWarning\n"
          ],
          "name": "stderr"
        },
        {
          "output_type": "execute_result",
          "data": {
            "text/plain": [
              "<matplotlib.axes._subplots.AxesSubplot at 0x7f5167823e90>"
            ]
          },
          "metadata": {
            "tags": []
          },
          "execution_count": 6
        },
        {
          "output_type": "display_data",
          "data": {
            "image/png": "[encoded data removed]",
            "text/plain": [
              "<Figure size 432x288 with 1 Axes>"
            ]
          },
          "metadata": {
            "tags": [],
            "needs_background": "light"
          }
        }
      ]
    },
    {
      "cell_type": "code",
      "metadata": {
        "id": "kx8_NXRJ5j47"
      },
      "source": [
        "emotion_label_to_text = {0:'anger', 1:'disgust', 2:'fear', 3:'happiness', 4: 'sadness', 5: 'surprise', 6: 'neutral'}"
      ],
      "execution_count": null,
      "outputs": []
    },
    {
      "cell_type": "code",
      "metadata": {
        "colab": {
          "base_uri": "https://localhost:8080/"
        },
        "id": "fkqfayFJ51Sz",
        "outputId": "4da6b6ba-b0f1-4b5b-f629-d45019f7bd96"
      },
      "source": [
        "image_data['emotion'].value_counts()"
      ],
      "execution_count": null,
      "outputs": [
        {
          "output_type": "execute_result",
          "data": {
            "text/plain": [
              "3    8989\n",
              "6    6198\n",
              "4    6077\n",
              "2    5121\n",
              "0    4953\n",
              "5    4002\n",
              "1     547\n",
              "Name: emotion, dtype: int64"
            ]
          },
          "metadata": {
            "tags": []
          },
          "execution_count": 8
        }
      ]
    },
    {
      "cell_type": "code",
      "metadata": {
        "colab": {
          "base_uri": "https://localhost:8080/",
          "height": 177
        },
        "id": "Ge0ArVOW436g",
        "outputId": "2ea980f2-6d01-41cd-91f6-9df246a50031"
      },
      "source": [
        "fig = plt.figure(1, (14, 14))\n",
        "\n",
        "k = 0\n",
        "for label in sorted(image_data.emotion.unique()):\n",
        "    for j in range(1):\n",
        "        px = image_data[image_data.emotion==label].pixels.iloc[k]\n",
        "        px = np.array(px.split(' ')).reshape(48, 48).astype('float32')\n",
        "\n",
        "        k += 1\n",
        "        ax = plt.subplot(7, 7, k)\n",
        "        ax.imshow(px , cmap='gray')\n",
        "        ax.set_xticks([])\n",
        "        ax.set_yticks([])\n",
        "        ax.set_title(emotion_label_to_text[label])\n",
        "        plt.tight_layout()"
      ],
      "execution_count": null,
      "outputs": [
        {
          "output_type": "display_data",
          "data": {
            "image/png": "[encoded data removed]",
            "text/plain": [
              "<Figure size 1008x1008 with 7 Axes>"
            ]
          },
          "metadata": {
            "tags": []
          }
        }
      ]
    },
    {
      "cell_type": "code",
      "metadata": {
        "colab": {
          "base_uri": "https://localhost:8080/"
        },
        "id": "axqSRSIt7dkA",
        "outputId": "190fd9da-7644-4160-88f9-5ab813c04138"
      },
      "source": [
        "image_data['Usage'].value_counts()"
      ],
      "execution_count": null,
      "outputs": [
        {
          "output_type": "execute_result",
          "data": {
            "text/plain": [
              "Training       28709\n",
              "PrivateTest     3589\n",
              "PublicTest      3589\n",
              "Name: Usage, dtype: int64"
            ]
          },
          "metadata": {
            "tags": []
          },
          "execution_count": 10
        }
      ]
    },
    {
      "cell_type": "code",
      "metadata": {
        "id": "AUmVO3L27OkC"
      },
      "source": [
        "# Scale our image for fit our dataset\n",
        "def parse_data(data):\n",
        "    image_array = np.zeros(shape=(len(data), 48, 48, 1))\n",
        "    image_label = np.array(list(map(int, data['emotion'])))\n",
        "    \n",
        "    for i, row in enumerate(data.index):\n",
        "        image = np.fromstring(data.loc[row,'pixels'], dtype=int, sep=' ')\n",
        "        image = np.reshape(image, (48, 48, 1))\n",
        "        image_array[i] = image\n",
        "        \n",
        "    return image_array, image_label\n",
        "\n",
        "# Splitting the data into train, validation and testing set thanks to Usage column\n",
        "train_imgs, train_lbls = parse_data(image_data[image_data[\"Usage\"] == \"Training\"])\n",
        "val_imgs, val_lbls = parse_data(image_data[image_data[\"Usage\"] == \"PrivateTest\"])\n",
        "test_imgs, test_lbls = parse_data(image_data[image_data[\"Usage\"] == \"PublicTest\"])"
      ],
      "execution_count": 6,
      "outputs": []
    },
    {
      "cell_type": "code",
      "metadata": {
        "colab": {
          "base_uri": "https://localhost:8080/"
        },
        "id": "bO_0p3brpO_e",
        "outputId": "99256ba6-67f6-4441-f052-872fa2b2eaaa"
      },
      "source": [
        "print(\"train shape\", np.shape(train_imgs))\n",
        "print(\"validation shape\", np.shape(val_imgs))\n",
        "print(\"validation shape\", np.shape(val_imgs))"
      ],
      "execution_count": 7,
      "outputs": [
        {
          "output_type": "stream",
          "text": [
            "train shape (28709, 48, 48, 1)\n",
            "validation shape (3589, 48, 48, 1)\n",
            "validation shape (3589, 48, 48, 1)\n"
          ],
          "name": "stdout"
        }
      ]
    },
    {
      "cell_type": "code",
      "metadata": {
        "id": "orEZxIVgwNDw"
      },
      "source": [
        "from tensorflow import keras\n",
        "from tensorflow.keras import layers\n",
        "from keras import models, layers"
      ],
      "execution_count": null,
      "outputs": []
    },
    {
      "cell_type": "code",
      "metadata": {
        "colab": {
          "base_uri": "https://localhost:8080/"
        },
        "id": "9qCp20IowGvB",
        "outputId": "50cb9a87-3cbe-443e-edec-76a913cfebdb"
      },
      "source": [
        "# Building MLP Model\n",
        "model_mlp = keras.Sequential()\n",
        "\n",
        "model_mlp.add(layers.Flatten(input_shape=(48, 48, 1)))\n",
        "\n",
        "model_mlp.add(layers.Dense(units=120, activation='relu'))\n",
        "\n",
        "model_mlp.add(layers.Dense(units=84, activation='relu'))\n",
        "\n",
        "model_mlp.add(layers.Dense(units=7, activation = 'softmax'))\n",
        "\n",
        "model_mlp.compile(loss=keras.losses.SparseCategoricalCrossentropy(), optimizer=keras.optimizers.Adam(lr=1e-3), metrics=['accuracy'])\n",
        "\n",
        "model_mlp.summary()"
      ],
      "execution_count": null,
      "outputs": [
        {
          "output_type": "stream",
          "text": [
            "Model: \"sequential_1\"\n",
            "_________________________________________________________________\n",
            "Layer (type)                 Output Shape              Param #   \n",
            "=================================================================\n",
            "flatten_1 (Flatten)          (None, 2304)              0         \n",
            "_________________________________________________________________\n",
            "dense_3 (Dense)              (None, 120)               276600    \n",
            "_________________________________________________________________\n",
            "dense_4 (Dense)              (None, 84)                10164     \n",
            "_________________________________________________________________\n",
            "dense_5 (Dense)              (None, 7)                 595       \n",
            "=================================================================\n",
            "Total params: 287,359\n",
            "Trainable params: 287,359\n",
            "Non-trainable params: 0\n",
            "_________________________________________________________________\n"
          ],
          "name": "stdout"
        }
      ]
    },
    {
      "cell_type": "code",
      "metadata": {
        "colab": {
          "base_uri": "https://localhost:8080/"
        },
        "id": "hCq9WzUGwQVZ",
        "outputId": "adbb8fb4-f5e5-4e83-d0ef-9a3989fc067d"
      },
      "source": [
        "model_mlp.fit(train_imgs, train_lbls,epochs=5, batch_size=32,validation_data=(val_imgs, val_lbls), verbose=1)"
      ],
      "execution_count": null,
      "outputs": [
        {
          "output_type": "stream",
          "text": [
            "Epoch 1/5\n",
            "898/898 [==============================] - 4s 4ms/step - loss: 47.1633 - accuracy: 0.2087 - val_loss: 2.3757 - val_accuracy: 0.2282\n",
            "Epoch 2/5\n",
            "898/898 [==============================] - 3s 4ms/step - loss: 1.9894 - accuracy: 0.2493 - val_loss: 2.1619 - val_accuracy: 0.1828\n",
            "Epoch 3/5\n",
            "898/898 [==============================] - 3s 4ms/step - loss: 1.8900 - accuracy: 0.2655 - val_loss: 2.6126 - val_accuracy: 0.1167\n",
            "Epoch 4/5\n",
            "898/898 [==============================] - 3s 4ms/step - loss: 1.8567 - accuracy: 0.2327 - val_loss: 1.8168 - val_accuracy: 0.2449\n",
            "Epoch 5/5\n",
            "898/898 [==============================] - 3s 4ms/step - loss: 1.8110 - accuracy: 0.2486 - val_loss: 1.8177 - val_accuracy: 0.2449\n"
          ],
          "name": "stdout"
        },
        {
          "output_type": "execute_result",
          "data": {
            "text/plain": [
              "<tensorflow.python.keras.callbacks.History at 0x7fd02058f390>"
            ]
          },
          "metadata": {
            "tags": []
          },
          "execution_count": 26
        }
      ]
    },
    {
      "cell_type": "code",
      "metadata": {
        "colab": {
          "base_uri": "https://localhost:8080/"
        },
        "id": "kvarx0Fiwihy",
        "outputId": "9ef2ea2d-a6fe-432f-dca8-f8d112210d0c"
      },
      "source": [
        "class_test=model_mlp.predict_classes(test_imgs)"
      ],
      "execution_count": null,
      "outputs": [
        {
          "output_type": "stream",
          "text": [
            "/usr/local/lib/python3.7/dist-packages/tensorflow/python/keras/engine/sequential.py:450: UserWarning: `model.predict_classes()` is deprecated and will be removed after 2021-01-01. Please use instead:* `np.argmax(model.predict(x), axis=-1)`,   if your model does multi-class classification   (e.g. if it uses a `softmax` last-layer activation).* `(model.predict(x) > 0.5).astype(\"int32\")`,   if your model does binary classification   (e.g. if it uses a `sigmoid` last-layer activation).\n",
            "  warnings.warn('`model.predict_classes()` is deprecated and '\n"
          ],
          "name": "stderr"
        }
      ]
    },
    {
      "cell_type": "code",
      "metadata": {
        "id": "Frd5LWfSxZXC"
      },
      "source": [
        ""
      ],
      "execution_count": null,
      "outputs": []
    },
    {
      "cell_type": "code",
      "metadata": {
        "colab": {
          "base_uri": "https://localhost:8080/"
        },
        "id": "n3ByaS0bwquk",
        "outputId": "33aafa7d-eefd-4032-c21e-60b40c5696ea"
      },
      "source": [
        "accuracy_score(test_lbls,class_test)*100"
      ],
      "execution_count": null,
      "outputs": [
        {
          "output_type": "execute_result",
          "data": {
            "text/plain": [
              "24.965171356923936"
            ]
          },
          "metadata": {
            "tags": []
          },
          "execution_count": 28
        }
      ]
    },
    {
      "cell_type": "code",
      "metadata": {
        "id": "qMvPyivQy97v"
      },
      "source": [
        "# using tensor flow version 2.4.1\n",
        "from tensorflow.keras.layers import Dense, Dropout, Flatten\n",
        "from tensorflow.keras.layers import Conv2D\n",
        "from tensorflow.keras.optimizers import Adam\n",
        "from tensorflow.keras.layers import MaxPooling2D\n",
        "import tensorflow as tf\n"
      ],
      "execution_count": 75,
      "outputs": []
    },
    {
      "cell_type": "code",
      "metadata": {
        "id": "1Gwolp3iw6Bz"
      },
      "source": [
        "# Using cnn model\n",
        "model_cnn = keras.Sequential()\n",
        "\n",
        "model_cnn.add(layers.Conv2D(64, kernel_size=(3, 3), activation='relu'))\n",
        "\n",
        "model_cnn.add(layers.MaxPooling2D())\n",
        "\n",
        "model_cnn.add(layers.Flatten())\n",
        "\n",
        "model_cnn.add(layers.Dense(units=84, activation='relu'))\n",
        "\n",
        "model_cnn.add(layers.Dense(units=7, activation = 'softmax'))\n",
        "\n",
        "model_cnn.compile(loss=keras.losses.SparseCategoricalCrossentropy(), optimizer=keras.optimizers.Adam(lr=1e-3), metrics=['accuracy'])"
      ],
      "execution_count": null,
      "outputs": []
    },
    {
      "cell_type": "code",
      "metadata": {
        "colab": {
          "base_uri": "https://localhost:8080/"
        },
        "id": "M_j4Dnk3YFo5",
        "outputId": "5dcfc3bf-6758-4a95-a734-14ad2f34b277"
      },
      "source": [
        "model_cnn.fit(train_imgs, train_lbls,epochs=15, batch_size=42,validation_data=(val_imgs, val_lbls), verbose=1)"
      ],
      "execution_count": null,
      "outputs": [
        {
          "output_type": "stream",
          "text": [
            "Epoch 1/15\n",
            "684/684 [==============================] - 56s 82ms/step - loss: 0.6443 - accuracy: 0.7727 - val_loss: 3.1014 - val_accuracy: 0.4260\n",
            "Epoch 2/15\n",
            "684/684 [==============================] - 56s 81ms/step - loss: 0.5620 - accuracy: 0.8021 - val_loss: 3.4424 - val_accuracy: 0.3954\n",
            "Epoch 3/15\n",
            "684/684 [==============================] - 56s 81ms/step - loss: 0.5157 - accuracy: 0.8240 - val_loss: 3.6780 - val_accuracy: 0.4124\n",
            "Epoch 4/15\n",
            "684/684 [==============================] - 56s 82ms/step - loss: 0.4715 - accuracy: 0.8365 - val_loss: 4.1690 - val_accuracy: 0.4154\n",
            "Epoch 5/15\n",
            "684/684 [==============================] - 56s 82ms/step - loss: 0.4663 - accuracy: 0.8418 - val_loss: 4.1743 - val_accuracy: 0.4118\n",
            "Epoch 6/15\n",
            "684/684 [==============================] - 56s 82ms/step - loss: 0.4277 - accuracy: 0.8535 - val_loss: 4.6127 - val_accuracy: 0.3996\n",
            "Epoch 7/15\n",
            "684/684 [==============================] - 56s 82ms/step - loss: 0.3749 - accuracy: 0.8723 - val_loss: 4.8611 - val_accuracy: 0.4093\n",
            "Epoch 8/15\n",
            "684/684 [==============================] - 56s 82ms/step - loss: 0.3612 - accuracy: 0.8795 - val_loss: 5.1365 - val_accuracy: 0.3929\n",
            "Epoch 9/15\n",
            "684/684 [==============================] - 56s 82ms/step - loss: 0.3314 - accuracy: 0.8880 - val_loss: 5.3357 - val_accuracy: 0.4018\n",
            "Epoch 10/15\n",
            "684/684 [==============================] - 56s 81ms/step - loss: 0.3101 - accuracy: 0.8975 - val_loss: 5.6454 - val_accuracy: 0.4163\n",
            "Epoch 11/15\n",
            "684/684 [==============================] - 56s 82ms/step - loss: 0.2928 - accuracy: 0.9048 - val_loss: 5.8554 - val_accuracy: 0.4082\n",
            "Epoch 12/15\n",
            "684/684 [==============================] - 56s 82ms/step - loss: 0.3159 - accuracy: 0.8982 - val_loss: 6.0766 - val_accuracy: 0.4104\n",
            "Epoch 13/15\n",
            "684/684 [==============================] - 56s 82ms/step - loss: 0.2567 - accuracy: 0.9161 - val_loss: 6.5591 - val_accuracy: 0.4132\n",
            "Epoch 14/15\n",
            "684/684 [==============================] - 56s 82ms/step - loss: 0.2475 - accuracy: 0.9221 - val_loss: 6.6915 - val_accuracy: 0.4082\n",
            "Epoch 15/15\n",
            "684/684 [==============================] - 56s 82ms/step - loss: 0.2542 - accuracy: 0.9191 - val_loss: 7.1066 - val_accuracy: 0.4065\n"
          ],
          "name": "stdout"
        },
        {
          "output_type": "execute_result",
          "data": {
            "text/plain": [
              "<tensorflow.python.keras.callbacks.History at 0x7fd01a0b5510>"
            ]
          },
          "metadata": {
            "tags": []
          },
          "execution_count": 45
        }
      ]
    },
    {
      "cell_type": "code",
      "metadata": {
        "colab": {
          "base_uri": "https://localhost:8080/"
        },
        "id": "do7yXYlfzm65",
        "outputId": "07f89554-9498-43fe-f7ad-9f555d1663f8"
      },
      "source": [
        "test_cnn=model_cnn.predict_classes(test_imgs)"
      ],
      "execution_count": null,
      "outputs": [
        {
          "output_type": "stream",
          "text": [
            "/usr/local/lib/python3.7/dist-packages/tensorflow/python/keras/engine/sequential.py:450: UserWarning: `model.predict_classes()` is deprecated and will be removed after 2021-01-01. Please use instead:* `np.argmax(model.predict(x), axis=-1)`,   if your model does multi-class classification   (e.g. if it uses a `softmax` last-layer activation).* `(model.predict(x) > 0.5).astype(\"int32\")`,   if your model does binary classification   (e.g. if it uses a `sigmoid` last-layer activation).\n",
            "  warnings.warn('`model.predict_classes()` is deprecated and '\n"
          ],
          "name": "stderr"
        }
      ]
    },
    {
      "cell_type": "code",
      "metadata": {
        "id": "M803-q7WfPPL"
      },
      "source": [
        "from sklearn.metrics import accuracy_score"
      ],
      "execution_count": null,
      "outputs": []
    },
    {
      "cell_type": "markdown",
      "metadata": {
        "id": "0jreFd5NvhVu"
      },
      "source": [
        "# ***Resnet Model ***"
      ]
    },
    {
      "cell_type": "code",
      "metadata": {
        "id": "-vnt00s-Siqx"
      },
      "source": [
        "from keras.applications.resnet50 import ResNet50\n",
        "from keras.models import Model\n",
        "from keras.callbacks import ModelCheckpoint\n",
        "import keras"
      ],
      "execution_count": 115,
      "outputs": []
    },
    {
      "cell_type": "code",
      "metadata": {
        "id": "oNrYAAf-F3P9"
      },
      "source": [
        "resnet=image_data[image_data['Usage']=='Training']['pixels']"
      ],
      "execution_count": 112,
      "outputs": []
    },
    {
      "cell_type": "code",
      "metadata": {
        "colab": {
          "base_uri": "https://localhost:8080/"
        },
        "id": "jVIFH5iGQQaT",
        "outputId": "dac15eb2-0f5d-49c8-b9f9-1313fb7b9702"
      },
      "source": [
        "a = []\n",
        "for i in range(len(resnet)):\n",
        "            image_string = (resnet)[i].split(' ') \n",
        "            image_data = np.asarray(image_string, dtype=np.uint8).reshape(48,48)\n",
        "            a.append(image_data)\n",
        "\n",
        "resnet = np.array(a)\n",
        "rgb_X_train = np.repeat(resnet[..., np.newaxis], 3, -1)\n",
        "print(rgb_X_train.shape)"
      ],
      "execution_count": 114,
      "outputs": [
        {
          "output_type": "stream",
          "text": [
            "(28709, 48, 48, 3)\n"
          ],
          "name": "stdout"
        }
      ]
    },
    {
      "cell_type": "code",
      "metadata": {
        "id": "McLGWboDSb4i"
      },
      "source": [
        "model1 = ResNet50(weights='imagenet', include_top=False, input_shape=(48, 48, 3))\n",
        "\n",
        "x = model1.output\n",
        "x= Flatten()(x)\n",
        "x = Dense(7, activation='softmax')(x)\n",
        "model50 = Model(inputs=model1.input, outputs=x)\n",
        "\n",
        "checkpoint = ModelCheckpoint(\"./model.h5\", monitor='val_acc', verbose=1, save_best_only=True, mode='max')\n",
        "model50.compile(optimizer='adam',\n",
        "              loss=tf.keras.losses.SparseCategoricalCrossentropy(from_logits=True),\n",
        "              metrics=['accuracy'])\n",
        "\n",
        "model50.fit(rgb_X_train,train_lbls, batch_size=42, epochs=1200, validation_split = 0.25)"
      ],
      "execution_count": null,
      "outputs": []
    }
  ]
}